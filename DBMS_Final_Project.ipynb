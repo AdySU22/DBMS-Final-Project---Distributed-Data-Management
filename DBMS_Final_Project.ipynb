{
  "nbformat": 4,
  "nbformat_minor": 0,
  "metadata": {
    "colab": {
      "provenance": [],
      "authorship_tag": "ABX9TyN+LQ6KIS0PyIdzxGAN5xmy",
      "include_colab_link": true
    },
    "kernelspec": {
      "name": "python3",
      "display_name": "Python 3"
    },
    "language_info": {
      "name": "python"
    }
  },
  "cells": [
    {
      "cell_type": "markdown",
      "metadata": {
        "id": "view-in-github",
        "colab_type": "text"
      },
      "source": [
        "<a href=\"https://colab.research.google.com/github/AdySU22/DBMS-Final-Project---Distributed-Data-Management/blob/main/DBMS_Final_Project.ipynb\" target=\"_parent\"><img src=\"https://colab.research.google.com/assets/colab-badge.svg\" alt=\"Open In Colab\"/></a>"
      ]
    },
    {
      "cell_type": "code",
      "execution_count": 1,
      "metadata": {
        "id": "7SHOa3g4AMPG"
      },
      "outputs": [],
      "source": [
        "# 1. For Abstract Base Classes (ABC and abstractmethod)\n",
        "# The abc module provides tools for defining abstract base classes and enforcing method implementations in subclasses.\n",
        "from abc import ABC, abstractmethod\n",
        "\n",
        "# 2. For final method (to prevent method overriding)\n",
        "# The final decorator from the typing module is used to mark methods or classes that cannot be overridden or subclassed.\n",
        "from typing import final"
      ]
    },
    {
      "cell_type": "code",
      "source": [],
      "metadata": {
        "id": "aTSK3OUHG39w"
      },
      "execution_count": null,
      "outputs": []
    }
  ]
}