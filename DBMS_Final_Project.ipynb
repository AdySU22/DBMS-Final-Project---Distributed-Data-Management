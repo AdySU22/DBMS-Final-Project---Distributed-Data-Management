{
  "nbformat": 4,
  "nbformat_minor": 0,
  "metadata": {
    "colab": {
      "provenance": [],
      "authorship_tag": "ABX9TyOG6yZZQI9XIu8BryQP2dcc"
    },
    "kernelspec": {
      "name": "python3",
      "display_name": "Python 3"
    },
    "language_info": {
      "name": "python"
    }
  },
  "cells": [
    {
      "cell_type": "code",
      "execution_count": 1,
      "metadata": {
        "id": "7SHOa3g4AMPG"
      },
      "outputs": [],
      "source": [
        "# 1. For Abstract Base Classes (ABC and abstractmethod)\n",
        "# The abc module provides tools for defining abstract base classes and enforcing method implementations in subclasses.\n",
        "from abc import ABC, abstractmethod\n",
        "\n",
        "# 2. For final method (to prevent method overriding)\n",
        "# The final decorator from the typing module is used to mark methods or classes that cannot be overridden or subclassed.\n",
        "from typing import final\n",
        "\n",
        "#3. Import List\n",
        "from typing import List"
      ]
    },
    {
      "cell_type": "code",
      "source": [],
      "metadata": {
        "id": "aTSK3OUHG39w"
      },
      "execution_count": null,
      "outputs": []
    }
  ]
}